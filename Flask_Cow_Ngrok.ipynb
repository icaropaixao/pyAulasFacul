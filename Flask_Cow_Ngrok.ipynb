{
  "nbformat": 4,
  "nbformat_minor": 0,
  "metadata": {
    "colab": {
      "provenance": [],
      "authorship_tag": "ABX9TyO4wuyjryx6jSPeBpIxkaYd",
      "include_colab_link": true
    },
    "kernelspec": {
      "name": "python3",
      "display_name": "Python 3"
    },
    "language_info": {
      "name": "python"
    }
  },
  "cells": [
    {
      "cell_type": "markdown",
      "metadata": {
        "id": "view-in-github",
        "colab_type": "text"
      },
      "source": [
        "<a href=\"https://colab.research.google.com/github/icaropaixao/pyAulasFacul/blob/main/Flask_Cow_Ngrok.ipynb\" target=\"_parent\"><img src=\"https://colab.research.google.com/assets/colab-badge.svg\" alt=\"Open In Colab\"/></a>"
      ]
    },
    {
      "cell_type": "code",
      "execution_count": 25,
      "metadata": {
        "id": "scj7oX0Ha0IF"
      },
      "outputs": [],
      "source": [
        "!pip install -qU flask cowsay pyngrok"
      ]
    },
    {
      "cell_type": "code",
      "source": [
        "from flask import Flask\n",
        "from pyngrok import ngrok\n",
        "import subprocess"
      ],
      "metadata": {
        "id": "GIQlUcxOit5i"
      },
      "execution_count": 26,
      "outputs": []
    },
    {
      "cell_type": "code",
      "source": [
        "app = Flask(__name__)"
      ],
      "metadata": {
        "id": "z3oBQdr4iwfj"
      },
      "execution_count": 27,
      "outputs": []
    },
    {
      "cell_type": "code",
      "source": [
        "\n",
        "@app.route(\"/cowsay/<figura>/<mensagem>\")\n",
        "def cowsay(figura, mensagem):\n",
        "  result = subprocess.run([\"cowsay\", \"-c\", f'{figura}', \"-t\", f'{mensagem}'], capture_output=True, text=True)\n",
        "  print(result.stdout)\n",
        "\n",
        "  return f'mensagem: {mensagem}, personagem: {figura}'\n",
        "\n",
        "\n",
        "\n"
      ],
      "metadata": {
        "id": "dLQB8Atci-qA"
      },
      "execution_count": 28,
      "outputs": []
    },
    {
      "cell_type": "code",
      "source": [
        "  if __name__ == \"__main__\":\n",
        "    ngrok.set_auth_token(\"2tYLMRDtyLEyf6ihTZ259P5mz5r_7NpReN4pyGsb3Gw63C1rW\")\n",
        "    my_url = ngrok.connect(5000).public_url\n",
        "    print(f\"servidor funcionando em : {my_url}\")\n",
        "    app.run()"
      ],
      "metadata": {
        "colab": {
          "base_uri": "https://localhost:8080/",
          "height": 0
        },
        "id": "4GPw5STyi_tt",
        "outputId": "7d5c4659-846c-4f11-eb13-9b3591c9f08f"
      },
      "execution_count": null,
      "outputs": [
        {
          "output_type": "stream",
          "name": "stdout",
          "text": [
            "servidor funcionando em : https://a6e8-35-245-201-157.ngrok-free.app\n",
            " * Serving Flask app '__main__'\n",
            " * Debug mode: off\n"
          ]
        },
        {
          "output_type": "stream",
          "name": "stderr",
          "text": [
            "INFO:werkzeug:\u001b[31m\u001b[1mWARNING: This is a development server. Do not use it in a production deployment. Use a production WSGI server instead.\u001b[0m\n",
            " * Running on http://127.0.0.1:5000\n",
            "INFO:werkzeug:\u001b[33mPress CTRL+C to quit\u001b[0m\n",
            "INFO:werkzeug:127.0.0.1 - - [26/Feb/2025 00:04:43] \"\u001b[33mGET / HTTP/1.1\u001b[0m\" 404 -\n",
            "INFO:werkzeug:127.0.0.1 - - [26/Feb/2025 00:04:43] \"\u001b[33mGET /favicon.ico HTTP/1.1\u001b[0m\" 404 -\n",
            "INFO:werkzeug:127.0.0.1 - - [26/Feb/2025 00:04:51] \"\u001b[33mGET / HTTP/1.1\u001b[0m\" 404 -\n",
            "INFO:werkzeug:127.0.0.1 - - [26/Feb/2025 00:05:08] \"\u001b[33mGET / HTTP/1.1\u001b[0m\" 404 -\n",
            "INFO:werkzeug:127.0.0.1 - - [26/Feb/2025 00:05:34] \"GET /cowsay/dragon/OK HTTP/1.1\" 200 -\n"
          ]
        },
        {
          "output_type": "stream",
          "name": "stdout",
          "text": [
            "  __\n",
            "| OK |\n",
            "  ==\n",
            "    \\\n",
            "     \\\n",
            "      \\\n",
            "       \\\n",
            "                             / \\\\  //\\\\\n",
            "              |\\\\___/|      /   \\\\//  \\\\\\\\\n",
            "              /0  0  \\\\__  /    //  | \\\\ \\\\\n",
            "             /     /  \\\\/_/    //   |  \\\\  \\\\\n",
            "             \\@_^_\\@'/   \\\\/_   //    |   \\\\   \\\\\n",
            "             //_^_/     \\\\/_ //     |    \\\\    \\\\\n",
            "          ( //) |        \\\\///      |     \\\\     \\\\\n",
            "        ( / /) _|_ /   )  //       |      \\\\     _\\\\\n",
            "      ( // /) '/,_ _ _/  ( ; -.    |    _ _\\\\.-~        .-~~~^-.\n",
            "    (( / / )) ,-{        _      `-.|.-~-.           .~         `.\n",
            "   (( // / ))  '/\\\\      /                 ~-. _ .-~      .-~^-.  \\\\\n",
            "   (( /// ))      `.   {            }                   /      \\\\  \\\\\n",
            "    (( / ))     .----~-.\\\\        \\\\-'                 .~         \\\\  `. \\\\^-.\n",
            "               ///.----..>        \\\\             _ -~             `.  ^-`  ^-_\n",
            "                 ///-._ _ _ _ _ _ _}^ - - - - ~                     ~-- ,.-~\n",
            "                                                                    /.-~\n",
            "\n"
          ]
        }
      ]
    },
    {
      "cell_type": "code",
      "source": [],
      "metadata": {
        "id": "mKf32HfGkxM2"
      },
      "execution_count": null,
      "outputs": []
    },
    {
      "cell_type": "code",
      "source": [],
      "metadata": {
        "id": "vy9VVmETjLVJ"
      },
      "execution_count": null,
      "outputs": []
    }
  ]
}